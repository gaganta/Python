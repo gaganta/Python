{
 "cells": [
  {
   "cell_type": "code",
   "execution_count": 2,
   "metadata": {},
   "outputs": [],
   "source": [
    "#task 9\n",
    "#Ask 2 numbers from users and store it in num1 and num2\n",
    "#Ask user to press 1 for addition,2 for subtraction,3 for multiplication and 4 for division\n",
    "#based on number given by user do the math operation"
   ]
  },
  {
   "cell_type": "code",
   "execution_count": 11,
   "metadata": {},
   "outputs": [
    {
     "name": "stdout",
     "output_type": "stream",
     "text": [
      "Enter first number: 17\n",
      "Enter second number: 2\n",
      "which operation would you like to perform?\n",
      "press 1 for + , press 2 for - , press 3 for * , press 4 for / :3\n",
      "34\n"
     ]
    }
   ],
   "source": [
    "num1 = int(input(\"Enter first number: \"))\n",
    "num2 = int(input(\"Enter second number: \"))\n",
    "\n",
    "print(\"which operation would you like to perform?\")\n",
    "ch = input(\"press 1 for + , press 2 for - , press 3 for * , press 4 for / :\")\n",
    "result = 0\n",
    "if ch == '1':\n",
    "    result = num1 + num2\n",
    "elif ch == '2':\n",
    "    result = num1 - num2\n",
    "elif ch == '3':\n",
    "    result = num1 * num2\n",
    "elif ch == '4' :\n",
    "    result = num1 / num2\n",
    "    \n",
    "else:\n",
    "    print(\"input not recognised! try again\")\n",
    "    \n",
    "print(result)\n"
   ]
  }
 ],
 "metadata": {
  "kernelspec": {
   "display_name": "Python 3",
   "language": "python",
   "name": "python3"
  },
  "language_info": {
   "codemirror_mode": {
    "name": "ipython",
    "version": 3
   },
   "file_extension": ".py",
   "mimetype": "text/x-python",
   "name": "python",
   "nbconvert_exporter": "python",
   "pygments_lexer": "ipython3",
   "version": "3.8.5"
  }
 },
 "nbformat": 4,
 "nbformat_minor": 4
}
